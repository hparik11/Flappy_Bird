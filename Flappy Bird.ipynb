{
 "cells": [
  {
   "cell_type": "code",
   "execution_count": null,
   "metadata": {
    "collapsed": false
   },
   "outputs": [],
   "source": [
    "import pygame\n",
    "\n",
    "Black = (0,0,0)\n",
    "White = (255,255,255)\n",
    "Blue = (204,229,255)\n",
    "\n",
    "pygame.init()\n",
    "surface = pygame.display.set_mode((640,400))\n",
    "pygame.display.set_caption('Flappy Bird')\n",
    "clock = pygame.time.Clock()\n",
    "\n",
    "img = pygame.image.load('flappy.png')\n",
    "x = 150\n",
    "y = 200\n",
    "y_move = 0\n",
    "\n",
    "def flying_bird(x, y, image):\n",
    "    surface.blit(image, (x,y))\n",
    "\n",
    "    \n",
    "def gameOver():\n",
    "    pygame.quit()\n",
    "    quit()\n",
    "    \n",
    "game_over = False\n",
    "\n",
    "while not game_over:\n",
    "\n",
    "    for event in pygame.event.get():\n",
    "        if event.type == pygame.QUIT:\n",
    "            game_over = True\n",
    "            \n",
    "        if event.type == pygame.KEYDOWN:\n",
    "                if event.key == pygame.K_UP:\n",
    "                    y_move = -5\n",
    "                    \n",
    "        if event.type == pygame.KEYUP:\n",
    "            if event.key == pygame.K_UP:\n",
    "                y_move = 5\n",
    "\n",
    "    y += y_move\n",
    "\n",
    "    \n",
    "    surface.fill(Blue)\n",
    "    flying_bird(x, y, img)\n",
    "    \n",
    "    if y > 360 or y < 0:\n",
    "        gameOver()\n",
    "    \n",
    "    \n",
    "    pygame.display.update()\n",
    "    clock.tick(60)\n",
    "    \n",
    "pygame.quit()\n",
    "quit()"
   ]
  }
 ],
 "metadata": {
  "kernelspec": {
   "display_name": "Python 2",
   "language": "python",
   "name": "python2"
  },
  "language_info": {
   "codemirror_mode": {
    "name": "ipython",
    "version": 2
   },
   "file_extension": ".py",
   "mimetype": "text/x-python",
   "name": "python",
   "nbconvert_exporter": "python",
   "pygments_lexer": "ipython2",
   "version": "2.7.6"
  }
 },
 "nbformat": 4,
 "nbformat_minor": 0
}
